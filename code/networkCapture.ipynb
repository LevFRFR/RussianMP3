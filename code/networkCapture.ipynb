{
 "cells": [
  {
   "cell_type": "code",
   "execution_count": null,
   "metadata": {},
   "outputs": [],
   "source": [
    "import pandas as pd\n",
    "from selenium.webdriver.chrome.service import Service as ChromeService\n",
    "from webdriver_manager.chrome import ChromeDriverManager\n",
    "from selenium import webdriver\n",
    "from selenium.webdriver.common.by import By\n",
    "from selenium.webdriver.common.desired_capabilities import DesiredCapabilities\n",
    "from urllib import request\n",
    "import json\n",
    "import requests"
   ]
  },
  {
   "attachments": {},
   "cell_type": "markdown",
   "metadata": {},
   "source": [
    "Initiate browser, query word, get network flow with specific name, get its GET Request URL, download the file with the words name in it."
   ]
  },
  {
   "cell_type": "code",
   "execution_count": null,
   "metadata": {},
   "outputs": [],
   "source": [
    "# writes all the logs into a 'network_log.json' file.\n",
    "def writeLogs(logs):\n",
    "    # Opens a writable JSON file and writes the logs in it\n",
    "    with open(\"network_log.json\", \"w\", encoding=\"utf-8\") as f:\n",
    "        f.write(\"[\")\n",
    "\n",
    "        # Iterates every logs and parses it using JSON\n",
    "        for log in logs:\n",
    "            network_log = json.loads(log[\"message\"])[\"message\"]\n",
    "\n",
    "            # Checks if the current 'method' key has any\n",
    "            # Network related value.\n",
    "            if(\"Network.response\" in network_log[\"method\"]\n",
    "                    or \"Network.request\" in network_log[\"method\"]\n",
    "                    or \"Network.webSocket\" in network_log[\"method\"]):\n",
    "\n",
    "                # Writes the network log to a JSON file by\n",
    "                # converting the dictionary to a JSON string\n",
    "                # using json.dumps().\n",
    "                f.write(json.dumps(network_log)+\",\")\n",
    "        f.write(\"{}]\")\n",
    "\n",
    "        return None\n",
    "\n",
    "\n",
    "# searches the logs for the specific link\n",
    "def getVoiceLink(logs):\n",
    "    # Iterate the logs\n",
    "    for log in logs:\n",
    "\n",
    "        # Except block will be accessed if any of the\n",
    "        # following keys are missing.\n",
    "        try:\n",
    "            # URL is present inside the following keys\n",
    "            url = log[\"params\"][\"request\"][\"url\"]\n",
    "\n",
    "            if 'voice' in url:\n",
    "                return url\n",
    "\n",
    "        except Exception as e:\n",
    "            pass"
   ]
  },
  {
   "cell_type": "code",
   "execution_count": null,
   "metadata": {},
   "outputs": [],
   "source": [
    "options = webdriver.ChromeOptions()\n",
    "options.add_argument('--headless')\n",
    "options.add_argument('--mute-audio')"
   ]
  },
  {
   "cell_type": "code",
   "execution_count": null,
   "metadata": {},
   "outputs": [],
   "source": [
    "capabilities = DesiredCapabilities.CHROME\n",
    "capabilities[\"goog:loggingPrefs\"] = {\"performance\": \"ALL\"}"
   ]
  },
  {
   "cell_type": "code",
   "execution_count": null,
   "metadata": {},
   "outputs": [],
   "source": [
    "driver = webdriver.Chrome(service=ChromeService(ChromeDriverManager().install()), desired_capabilities=capabilities, options=options)"
   ]
  },
  {
   "cell_type": "code",
   "execution_count": null,
   "metadata": {},
   "outputs": [],
   "source": [
    "word = 'нормально'\n",
    "mainURL = 'https://context.reverso.net/translation/russian-english/' + word\n",
    "driver.get(mainURL)"
   ]
  },
  {
   "cell_type": "code",
   "execution_count": null,
   "metadata": {},
   "outputs": [],
   "source": [
    "driver.find_element(By.XPATH, '//*[@id=\"search-links\"]/button[1]').click()"
   ]
  },
  {
   "cell_type": "code",
   "execution_count": null,
   "metadata": {},
   "outputs": [],
   "source": [
    "# Gets all the logs from performance in Chrome\n",
    "logs = driver.get_log(\"performance\")\n",
    "\n",
    "writeLogs(logs)"
   ]
  },
  {
   "cell_type": "code",
   "execution_count": null,
   "metadata": {},
   "outputs": [],
   "source": [
    "print(\"Getting User-Agent\")\n",
    "userAgent = driver.execute_script(\"return navigator.userAgent\")"
   ]
  },
  {
   "cell_type": "code",
   "execution_count": null,
   "metadata": {},
   "outputs": [],
   "source": [
    "print(\"Quitting Selenium WebDriver\")\n",
    "driver.quit()"
   ]
  },
  {
   "cell_type": "code",
   "execution_count": null,
   "metadata": {},
   "outputs": [],
   "source": [
    "# Read the JSON File and parse it using\n",
    "# json.loads() to find the urls containing images.\n",
    "json_file_path = \"network_log.json\"\n",
    "with open(json_file_path, \"r\", encoding=\"utf-8\") as f:\n",
    "    logs = json.loads(f.read())"
   ]
  },
  {
   "cell_type": "code",
   "execution_count": null,
   "metadata": {},
   "outputs": [],
   "source": [
    "link = getVoiceLink(logs)\n",
    "\n",
    "headers = {'User-Agent':userAgent}\n",
    "\n",
    "response = requests.get(link, headers=headers)"
   ]
  },
  {
   "cell_type": "code",
   "execution_count": null,
   "metadata": {},
   "outputs": [],
   "source": [
    "with open(word + '.mp3', 'wb') as f:\n",
    "    f.write(response.content)"
   ]
  }
 ],
 "metadata": {
  "kernelspec": {
   "display_name": "web-py",
   "language": "python",
   "name": "python3"
  },
  "language_info": {
   "codemirror_mode": {
    "name": "ipython",
    "version": 3
   },
   "file_extension": ".py",
   "mimetype": "text/x-python",
   "name": "python",
   "nbconvert_exporter": "python",
   "pygments_lexer": "ipython3",
   "version": "3.10.9 | packaged by conda-forge | (main, Jan 11 2023, 15:15:40) [MSC v.1916 64 bit (AMD64)]"
  },
  "orig_nbformat": 4,
  "vscode": {
   "interpreter": {
    "hash": "4b46ffd591ba7a656660064c7cd97ed6750017a2d792b56b2a2ded2f6269fc38"
   }
  }
 },
 "nbformat": 4,
 "nbformat_minor": 2
}
